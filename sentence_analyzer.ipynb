{
 "cells": [
  {
   "cell_type": "code",
   "execution_count": 8,
   "metadata": {},
   "outputs": [],
   "source": [
    "import re"
   ]
  },
  {
   "cell_type": "code",
   "execution_count": 1,
   "metadata": {},
   "outputs": [],
   "source": [
    "REGEX_URLS = r'(http(s)?:\\/\\/.)?(www\\.)?[-a-zA-Z0-9@:%.\\+~#=]{2,256}\\.[a-z]{2,6}\\b([-a-zA-Z0-9@:%\\+.~#?&//=]*)'\n",
    "REGEX_PUNCTUATION = r'[^\\w\\s\\']'  # Means everything except word chars (\\w), space chars (\\s) or apostrophes\n",
    "REGEX_EMOTICONS = r'(?::|;|=)(?:-)?(?:\\)|D|P)'"
   ]
  },
  {
   "cell_type": "code",
   "execution_count": 2,
   "metadata": {},
   "outputs": [],
   "source": [
    "def filter_token(token):\n",
    "    '''\n",
    "    Check if Token is a URL or @mention. If so, return none. Else return token.\n",
    "    '''\n",
    "    #remove links\n",
    "    if re.match(REGEX_URLS, token):\n",
    "        #print(\"### Found URL in: \", token)\n",
    "        return\n",
    "        \n",
    "    if \"@\" in token:\n",
    "        #print(\"### Found @ in: \", token)\n",
    "        return\n",
    "    \n",
    "    #print(\"### Found nothing in: \", token)\n",
    "    return token"
   ]
  },
  {
   "cell_type": "code",
   "execution_count": 3,
   "metadata": {},
   "outputs": [],
   "source": [
    "def remove_punctuation_but_keep_emoticons(token):\n",
    "    '''\n",
    "    Removes all additional punctuation from a token but keeps it as a whole if it is an emoticon.\n",
    "    '''\n",
    "    if re.match(REGEX_EMOTICONS, token):\n",
    "        #print(\"### Found emoticon in: \", token)\n",
    "        return token\n",
    "    else:\n",
    "        return re.sub(REGEX_PUNCTUATION, '', token)  # also filters %-signs - do we want this?"
   ]
  },
  {
   "cell_type": "code",
   "execution_count": 5,
   "metadata": {},
   "outputs": [
    {
     "name": "stderr",
     "output_type": "stream",
     "text": [
      "Using TensorFlow backend.\n"
     ]
    },
    {
     "name": "stdout",
     "output_type": "stream",
     "text": [
      "WARNING:tensorflow:From /usr/local/lib/python3.7/dist-packages/tensorflow/python/framework/op_def_library.py:263: colocate_with (from tensorflow.python.framework.ops) is deprecated and will be removed in a future version.\n",
      "Instructions for updating:\n",
      "Colocations handled automatically by placer.\n",
      "WARNING:tensorflow:From /usr/local/lib/python3.7/dist-packages/tensorflow/python/ops/math_ops.py:3066: to_int32 (from tensorflow.python.ops.math_ops) is deprecated and will be removed in a future version.\n",
      "Instructions for updating:\n",
      "Use tf.cast instead.\n"
     ]
    }
   ],
   "source": [
    "import keras\n",
    "from keras.models import load_model\n",
    "from keras.utils import CustomObjectScope\n",
    "from keras.initializers import glorot_uniform\n",
    "\n",
    "with CustomObjectScope({'GlorotUniform': glorot_uniform()}):\n",
    "    model = load_model('my_net_10_epochs_9008.h5')"
   ]
  },
  {
   "cell_type": "code",
   "execution_count": 9,
   "metadata": {},
   "outputs": [],
   "source": [
    "def analyze_sentence(sentence):\n",
    "    #print(sentence)\n",
    "    tokens = sentence.split()\n",
    "    #print(tokens)\n",
    "    tokens_cleaned = []\n",
    "    for token in tokens:\n",
    "        result = filter_token(token)\n",
    "        #print(\"#after filtering:\", result)\n",
    "        if result:\n",
    "            result = remove_punctuation_but_keep_emoticons(result)\n",
    "            #print(\"#after removing punctuation: \", result)\n",
    "            if result:\n",
    "                if not (result.isupper() and len(result) > 1) and not result.islower():\n",
    "                    result = result.lower()\n",
    "                #print(\"Before appending: \", result)\n",
    "                tokens_cleaned.append(result)\n",
    "    #print(tokens_cleaned)\n",
    "    #test_input_generator = data_generator([tokens_cleaned], word2idx, 1)\n",
    "    #print(next(test_input_generator))\n",
    "    input_vector = bagofwords(tokens_cleaned, word2idx)\n",
    "    print(input_vector)\n",
    "    print(input_vector.shape)\n",
    "    input_vector_array = np.array(input_vector)\n",
    "    print(input_vector_array.shape)\n",
    "    prediction = model.predict_on_batch(x=input_vector_array)\n",
    "    print(prediction)"
   ]
  },
  {
   "cell_type": "code",
   "execution_count": 10,
   "metadata": {},
   "outputs": [
    {
     "ename": "NameError",
     "evalue": "name 'bagofwords' is not defined",
     "output_type": "error",
     "traceback": [
      "\u001b[0;31m---------------------------------------------------------------------------\u001b[0m",
      "\u001b[0;31mNameError\u001b[0m                                 Traceback (most recent call last)",
      "\u001b[0;32m<ipython-input-10-55490181b955>\u001b[0m in \u001b[0;36m<module>\u001b[0;34m()\u001b[0m\n\u001b[0;32m----> 1\u001b[0;31m \u001b[0manalyze_sentence\u001b[0m\u001b[0;34m(\u001b[0m\u001b[0;34m\"The fuck is wrong with these idiots??\"\u001b[0m\u001b[0;34m)\u001b[0m\u001b[0;34m\u001b[0m\u001b[0;34m\u001b[0m\u001b[0m\n\u001b[0m",
      "\u001b[0;32m<ipython-input-9-ea87e34b93de>\u001b[0m in \u001b[0;36manalyze_sentence\u001b[0;34m(sentence)\u001b[0m\n\u001b[1;32m     18\u001b[0m     \u001b[0;31m#test_input_generator = data_generator([tokens_cleaned], word2idx, 1)\u001b[0m\u001b[0;34m\u001b[0m\u001b[0;34m\u001b[0m\u001b[0;34m\u001b[0m\u001b[0m\n\u001b[1;32m     19\u001b[0m     \u001b[0;31m#print(next(test_input_generator))\u001b[0m\u001b[0;34m\u001b[0m\u001b[0;34m\u001b[0m\u001b[0;34m\u001b[0m\u001b[0m\n\u001b[0;32m---> 20\u001b[0;31m     \u001b[0minput_vector\u001b[0m \u001b[0;34m=\u001b[0m \u001b[0mbagofwords\u001b[0m\u001b[0;34m(\u001b[0m\u001b[0mtokens_cleaned\u001b[0m\u001b[0;34m,\u001b[0m \u001b[0mword2idx\u001b[0m\u001b[0;34m)\u001b[0m\u001b[0;34m\u001b[0m\u001b[0;34m\u001b[0m\u001b[0m\n\u001b[0m\u001b[1;32m     21\u001b[0m     \u001b[0mprint\u001b[0m\u001b[0;34m(\u001b[0m\u001b[0minput_vector\u001b[0m\u001b[0;34m)\u001b[0m\u001b[0;34m\u001b[0m\u001b[0;34m\u001b[0m\u001b[0m\n\u001b[1;32m     22\u001b[0m     \u001b[0mprint\u001b[0m\u001b[0;34m(\u001b[0m\u001b[0minput_vector\u001b[0m\u001b[0;34m.\u001b[0m\u001b[0mshape\u001b[0m\u001b[0;34m)\u001b[0m\u001b[0;34m\u001b[0m\u001b[0;34m\u001b[0m\u001b[0m\n",
      "\u001b[0;31mNameError\u001b[0m: name 'bagofwords' is not defined"
     ]
    }
   ],
   "source": [
    "analyze_sentence(\"The fuck is wrong with these idiots??\")"
   ]
  },
  {
   "cell_type": "code",
   "execution_count": null,
   "metadata": {},
   "outputs": [],
   "source": []
  }
 ],
 "metadata": {
  "kernelspec": {
   "display_name": "Python 3",
   "language": "python",
   "name": "python3"
  },
  "language_info": {
   "codemirror_mode": {
    "name": "ipython",
    "version": 3
   },
   "file_extension": ".py",
   "mimetype": "text/x-python",
   "name": "python",
   "nbconvert_exporter": "python",
   "pygments_lexer": "ipython3",
   "version": "3.7.3"
  }
 },
 "nbformat": 4,
 "nbformat_minor": 2
}
